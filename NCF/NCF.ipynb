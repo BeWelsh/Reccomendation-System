{
 "cells": [
  {
   "cell_type": "code",
   "execution_count": 12,
   "metadata": {},
   "outputs": [],
   "source": [
    "import os\n",
    "import numpy as np\n",
    "import pandas as pd\n",
    "import tensorflow as tf\n",
    "import json"
   ]
  },
  {
   "cell_type": "code",
   "execution_count": 3,
   "metadata": {},
   "outputs": [
    {
     "name": "stdout",
     "output_type": "stream",
     "text": [
      "Tensorflow version: 2.19.0\n",
      "Pandas version: 2.2.3\n",
      "Numpy version: 2.0.2\n"
     ]
    }
   ],
   "source": [
    "print(f'Tensorflow version: {tf.__version__}')\n",
    "print(f'Pandas version: {pd.__version__}')\n",
    "print(f'Numpy version: {np.__version__}')"
   ]
  },
  {
   "cell_type": "code",
   "execution_count": 4,
   "metadata": {},
   "outputs": [],
   "source": [
    "TOP_K = 10\n",
    "N_EPOCHS = 10"
   ]
  },
  {
   "cell_type": "code",
   "execution_count": 18,
   "metadata": {},
   "outputs": [],
   "source": [
    "data = []\n",
    "with open('json/reviews_Kindle_Store_5.json', 'r') as f:\n",
    "    for line in f:\n",
    "        data.append(json.loads(line))\n",
    "\n",
    "\n",
    "df = pd.DataFrame(data)\n",
    "df = df[['reviewerID', 'asin', 'overall']]\n",
    "df.dropna(inplace=True)"
   ]
  },
  {
   "cell_type": "code",
   "execution_count": 19,
   "metadata": {},
   "outputs": [],
   "source": [
    "from sklearn.preprocessing import LabelEncoder\n",
    "\n",
    "user_enc = LabelEncoder()\n",
    "item_enc = LabelEncoder()\n",
    "\n",
    "df['user'] = user_enc.fit_transform(df['reviewerID'])\n",
    "df['item'] = item_enc.fit_transform(df['asin'])"
   ]
  },
  {
   "cell_type": "code",
   "execution_count": 20,
   "metadata": {},
   "outputs": [
    {
     "data": {
      "text/html": [
       "<div>\n",
       "<style scoped>\n",
       "    .dataframe tbody tr th:only-of-type {\n",
       "        vertical-align: middle;\n",
       "    }\n",
       "\n",
       "    .dataframe tbody tr th {\n",
       "        vertical-align: top;\n",
       "    }\n",
       "\n",
       "    .dataframe thead th {\n",
       "        text-align: right;\n",
       "    }\n",
       "</style>\n",
       "<table border=\"1\" class=\"dataframe\">\n",
       "  <thead>\n",
       "    <tr style=\"text-align: right;\">\n",
       "      <th></th>\n",
       "      <th>reviewerID</th>\n",
       "      <th>asin</th>\n",
       "      <th>overall</th>\n",
       "      <th>user</th>\n",
       "      <th>item</th>\n",
       "    </tr>\n",
       "  </thead>\n",
       "  <tbody>\n",
       "    <tr>\n",
       "      <th>0</th>\n",
       "      <td>A1F6404F1VG29J</td>\n",
       "      <td>B000F83SZQ</td>\n",
       "      <td>5.0</td>\n",
       "      <td>7773</td>\n",
       "      <td>0</td>\n",
       "    </tr>\n",
       "    <tr>\n",
       "      <th>1</th>\n",
       "      <td>AN0N05A9LIJEQ</td>\n",
       "      <td>B000F83SZQ</td>\n",
       "      <td>4.0</td>\n",
       "      <td>61894</td>\n",
       "      <td>0</td>\n",
       "    </tr>\n",
       "    <tr>\n",
       "      <th>2</th>\n",
       "      <td>A795DMNCJILA6</td>\n",
       "      <td>B000F83SZQ</td>\n",
       "      <td>4.0</td>\n",
       "      <td>53977</td>\n",
       "      <td>0</td>\n",
       "    </tr>\n",
       "    <tr>\n",
       "      <th>3</th>\n",
       "      <td>A1FV0SX13TWVXQ</td>\n",
       "      <td>B000F83SZQ</td>\n",
       "      <td>5.0</td>\n",
       "      <td>8128</td>\n",
       "      <td>0</td>\n",
       "    </tr>\n",
       "    <tr>\n",
       "      <th>4</th>\n",
       "      <td>A3SPTOKDG7WBLN</td>\n",
       "      <td>B000F83SZQ</td>\n",
       "      <td>4.0</td>\n",
       "      <td>50527</td>\n",
       "      <td>0</td>\n",
       "    </tr>\n",
       "    <tr>\n",
       "      <th>...</th>\n",
       "      <td>...</td>\n",
       "      <td>...</td>\n",
       "      <td>...</td>\n",
       "      <td>...</td>\n",
       "      <td>...</td>\n",
       "    </tr>\n",
       "    <tr>\n",
       "      <th>982614</th>\n",
       "      <td>A2Y66HD4J5S7QZ</td>\n",
       "      <td>B00M13FNSS</td>\n",
       "      <td>5.0</td>\n",
       "      <td>35142</td>\n",
       "      <td>61933</td>\n",
       "    </tr>\n",
       "    <tr>\n",
       "      <th>982615</th>\n",
       "      <td>A17YHECC8H9NEY</td>\n",
       "      <td>B00M13FNSS</td>\n",
       "      <td>5.0</td>\n",
       "      <td>4097</td>\n",
       "      <td>61933</td>\n",
       "    </tr>\n",
       "    <tr>\n",
       "      <th>982616</th>\n",
       "      <td>A20KO0BPMNREJL</td>\n",
       "      <td>B00M13FNSS</td>\n",
       "      <td>5.0</td>\n",
       "      <td>18464</td>\n",
       "      <td>61933</td>\n",
       "    </tr>\n",
       "    <tr>\n",
       "      <th>982617</th>\n",
       "      <td>A1BQO66R6OLCCW</td>\n",
       "      <td>B00M13FNSS</td>\n",
       "      <td>5.0</td>\n",
       "      <td>5981</td>\n",
       "      <td>61933</td>\n",
       "    </tr>\n",
       "    <tr>\n",
       "      <th>982618</th>\n",
       "      <td>A2NRGE3CSFY2TQ</td>\n",
       "      <td>B00M13FNSS</td>\n",
       "      <td>5.0</td>\n",
       "      <td>29928</td>\n",
       "      <td>61933</td>\n",
       "    </tr>\n",
       "  </tbody>\n",
       "</table>\n",
       "<p>982619 rows × 5 columns</p>\n",
       "</div>"
      ],
      "text/plain": [
       "            reviewerID        asin  overall   user   item\n",
       "0       A1F6404F1VG29J  B000F83SZQ      5.0   7773      0\n",
       "1        AN0N05A9LIJEQ  B000F83SZQ      4.0  61894      0\n",
       "2        A795DMNCJILA6  B000F83SZQ      4.0  53977      0\n",
       "3       A1FV0SX13TWVXQ  B000F83SZQ      5.0   8128      0\n",
       "4       A3SPTOKDG7WBLN  B000F83SZQ      4.0  50527      0\n",
       "...                ...         ...      ...    ...    ...\n",
       "982614  A2Y66HD4J5S7QZ  B00M13FNSS      5.0  35142  61933\n",
       "982615  A17YHECC8H9NEY  B00M13FNSS      5.0   4097  61933\n",
       "982616  A20KO0BPMNREJL  B00M13FNSS      5.0  18464  61933\n",
       "982617  A1BQO66R6OLCCW  B00M13FNSS      5.0   5981  61933\n",
       "982618  A2NRGE3CSFY2TQ  B00M13FNSS      5.0  29928  61933\n",
       "\n",
       "[982619 rows x 5 columns]"
      ]
     },
     "execution_count": 20,
     "metadata": {},
     "output_type": "execute_result"
    }
   ],
   "source": [
    "df"
   ]
  }
 ],
 "metadata": {
  "kernelspec": {
   "display_name": "Python 3",
   "language": "python",
   "name": "python3"
  },
  "language_info": {
   "codemirror_mode": {
    "name": "ipython",
    "version": 3
   },
   "file_extension": ".py",
   "mimetype": "text/x-python",
   "name": "python",
   "nbconvert_exporter": "python",
   "pygments_lexer": "ipython3",
   "version": "3.9.6"
  }
 },
 "nbformat": 4,
 "nbformat_minor": 2
}
